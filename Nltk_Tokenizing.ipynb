{
  "nbformat": 4,
  "nbformat_minor": 0,
  "metadata": {
    "colab": {
      "name": "Nltk-Tokenizing.ipynb",
      "version": "0.3.2",
      "provenance": [],
      "include_colab_link": true
    },
    "kernelspec": {
      "name": "python3",
      "display_name": "Python 3"
    },
    "accelerator": "GPU"
  },
  "cells": [
    {
      "cell_type": "markdown",
      "metadata": {
        "id": "view-in-github",
        "colab_type": "text"
      },
      "source": [
        "[View in Colaboratory](https://colab.research.google.com/github/yashgupta777/NLP/blob/master/Nltk_Tokenizing.ipynb)"
      ]
    },
    {
      "metadata": {
        "id": "ttgAxRk5FduB",
        "colab_type": "code",
        "colab": {
          "base_uri": "https://localhost:8080/",
          "height": 612
        },
        "outputId": "1b742f02-3147-4d53-ec0e-bf6361d5e7ed"
      },
      "cell_type": "code",
      "source": [
        "from nltk.tokenize import sent_tokenize, word_tokenize\n",
        "\n",
        "#tokenizing - word tokenizer , sentence tokenizer\n",
        "EXAMPLE_TEXT = \"Hello Mr. Smith, how are you doing today? The weather is great, and Python is awesome. The sky is pinkish-blue. You shouldn't eat cardboard.\"\n",
        "\n",
        "for i in sent_tokenize(EXAMPLE_TEXT) :\n",
        "   print(i)\n",
        "\n",
        "for i in word_tokenize(EXAMPLE_TEXT) :\n",
        "   print(i)"
      ],
      "execution_count": 7,
      "outputs": [
        {
          "output_type": "stream",
          "text": [
            "Hello Mr. Smith, how are you doing today?\n",
            "The weather is great, and Python is awesome.\n",
            "The sky is pinkish-blue.\n",
            "You shouldn't eat cardboard.\n",
            "Hello\n",
            "Mr.\n",
            "Smith\n",
            ",\n",
            "how\n",
            "are\n",
            "you\n",
            "doing\n",
            "today\n",
            "?\n",
            "The\n",
            "weather\n",
            "is\n",
            "great\n",
            ",\n",
            "and\n",
            "Python\n",
            "is\n",
            "awesome\n",
            ".\n",
            "The\n",
            "sky\n",
            "is\n",
            "pinkish-blue\n",
            ".\n",
            "You\n",
            "should\n",
            "n't\n",
            "eat\n",
            "cardboard\n",
            ".\n"
          ],
          "name": "stdout"
        }
      ]
    },
    {
      "metadata": {
        "id": "S3YoUIcUGvG_",
        "colab_type": "code",
        "colab": {}
      },
      "cell_type": "code",
      "source": [
        ""
      ],
      "execution_count": 0,
      "outputs": []
    },
    {
      "metadata": {
        "id": "SWaaZHxjGvbz",
        "colab_type": "code",
        "colab": {}
      },
      "cell_type": "code",
      "source": [
        ""
      ],
      "execution_count": 0,
      "outputs": []
    }
  ]
}