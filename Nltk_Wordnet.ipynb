{
  "nbformat": 4,
  "nbformat_minor": 0,
  "metadata": {
    "colab": {
      "name": "Nltk_Wordnet.ipynb",
      "version": "0.3.2",
      "provenance": [],
      "include_colab_link": true
    },
    "kernelspec": {
      "name": "python3",
      "display_name": "Python 3"
    }
  },
  "cells": [
    {
      "cell_type": "markdown",
      "metadata": {
        "id": "view-in-github",
        "colab_type": "text"
      },
      "source": [
        "[View in Colaboratory](https://colab.research.google.com/github/yashgupta777/NLP/blob/master/Nltk_Wordnet.ipynb)"
      ]
    },
    {
      "metadata": {
        "id": "3pOlf_XweeFB",
        "colab_type": "code",
        "colab": {
          "base_uri": "https://localhost:8080/",
          "height": 51
        },
        "outputId": "5ccc9e6e-30d8-45ba-b51e-e55dd89dde19"
      },
      "cell_type": "code",
      "source": [
        "# WordNet is a lexical database for the English language, which was created by Princeton, and is part of the NLTK corpus.\n",
        "\n",
        "# You can use WordNet alongside the NLTK module to find the meanings of words, synonyms, antonyms, and more. Let's cover some examples.\n",
        "\n",
        "# First, you're going to need to import wordnet:\n",
        "import nltk\n",
        "nltk.download('wordnet')\n",
        "from nltk.corpus import wordnet\n",
        "# Then, we're going to use the term \"program\" to find synsets like so:\n",
        "\n",
        "syns = wordnet.synsets(\"program\")\n",
        "# An example of a synset:\n"
      ],
      "execution_count": 4,
      "outputs": [
        {
          "output_type": "stream",
          "text": [
            "[nltk_data] Downloading package wordnet to /root/nltk_data...\n",
            "[nltk_data]   Package wordnet is already up-to-date!\n"
          ],
          "name": "stdout"
        }
      ]
    },
    {
      "metadata": {
        "id": "caNDVjCaEE4Q",
        "colab_type": "code",
        "colab": {
          "base_uri": "https://localhost:8080/",
          "height": 34
        },
        "outputId": "b9459f95-6e2e-4ada-8954-5969f7e34634"
      },
      "cell_type": "code",
      "source": [
        "\n",
        "print(syns[0].name())\n",
        "# Just the word:\n"
      ],
      "execution_count": 6,
      "outputs": [
        {
          "output_type": "stream",
          "text": [
            "plan.n.01\n"
          ],
          "name": "stdout"
        }
      ]
    },
    {
      "metadata": {
        "id": "BxHNibFiEH0h",
        "colab_type": "code",
        "colab": {
          "base_uri": "https://localhost:8080/",
          "height": 34
        },
        "outputId": "df9e8d14-f8c8-45ba-99f8-821f43a49b35"
      },
      "cell_type": "code",
      "source": [
        "\n",
        "print(syns[0].lemmas()[0].name())\n",
        "# Definition of that first synset:\n"
      ],
      "execution_count": 7,
      "outputs": [
        {
          "output_type": "stream",
          "text": [
            "plan\n"
          ],
          "name": "stdout"
        }
      ]
    },
    {
      "metadata": {
        "id": "my6TTr3XEKZj",
        "colab_type": "code",
        "colab": {
          "base_uri": "https://localhost:8080/",
          "height": 51
        },
        "outputId": "12bfd403-4a07-409b-8a9b-a024ebf82fd3"
      },
      "cell_type": "code",
      "source": [
        "\n",
        "print(syns[0].definition())\n",
        "# a series of steps to be carried out or goals to be accomplished\n",
        "# Examples of the word in use:\n",
        "\n",
        "print(syns[0].examples())\n",
        "# ['they drew up a six-step plan', 'they discussed plans for a new bond issue']\n",
        "# Next, how might we discern synonyms and antonyms to a word? The lemmas will be synonyms, and then you can use .\n",
        "# antonyms to find the antonyms to the lemmas. As such, we can populate some lists like:\n"
      ],
      "execution_count": 8,
      "outputs": [
        {
          "output_type": "stream",
          "text": [
            "a series of steps to be carried out or goals to be accomplished\n",
            "['they drew up a six-step plan', 'they discussed plans for a new bond issue']\n"
          ],
          "name": "stdout"
        }
      ]
    },
    {
      "metadata": {
        "id": "ONRCwGSnENLc",
        "colab_type": "code",
        "colab": {
          "base_uri": "https://localhost:8080/",
          "height": 1176
        },
        "outputId": "fb5ddd4e-77b4-4c1c-958c-e3f437211c8b"
      },
      "cell_type": "code",
      "source": [
        "\n",
        "synonyms = []\n",
        "antonyms = []\n",
        "\n",
        "for syn in wordnet.synsets(\"good\"):\n",
        "    for l in syn.lemmas():\n",
        "        print (\"L:\",l)\n",
        "        synonyms.append(l.name())\n",
        "        if l.antonyms():\n",
        "            antonyms.append(l.antonyms()[0].name())\n",
        "\n",
        "print(set(synonyms))\n",
        "print(set(antonyms))"
      ],
      "execution_count": 9,
      "outputs": [
        {
          "output_type": "stream",
          "text": [
            "L: Lemma('good.n.01.good')\n",
            "L: Lemma('good.n.02.good')\n",
            "L: Lemma('good.n.02.goodness')\n",
            "L: Lemma('good.n.03.good')\n",
            "L: Lemma('good.n.03.goodness')\n",
            "L: Lemma('commodity.n.01.commodity')\n",
            "L: Lemma('commodity.n.01.trade_good')\n",
            "L: Lemma('commodity.n.01.good')\n",
            "L: Lemma('good.a.01.good')\n",
            "L: Lemma('full.s.06.full')\n",
            "L: Lemma('full.s.06.good')\n",
            "L: Lemma('good.a.03.good')\n",
            "L: Lemma('estimable.s.02.estimable')\n",
            "L: Lemma('estimable.s.02.good')\n",
            "L: Lemma('estimable.s.02.honorable')\n",
            "L: Lemma('estimable.s.02.respectable')\n",
            "L: Lemma('beneficial.s.01.beneficial')\n",
            "L: Lemma('beneficial.s.01.good')\n",
            "L: Lemma('good.s.06.good')\n",
            "L: Lemma('good.s.07.good')\n",
            "L: Lemma('good.s.07.just')\n",
            "L: Lemma('good.s.07.upright')\n",
            "L: Lemma('adept.s.01.adept')\n",
            "L: Lemma('adept.s.01.expert')\n",
            "L: Lemma('adept.s.01.good')\n",
            "L: Lemma('adept.s.01.practiced')\n",
            "L: Lemma('adept.s.01.proficient')\n",
            "L: Lemma('adept.s.01.skillful')\n",
            "L: Lemma('adept.s.01.skilful')\n",
            "L: Lemma('good.s.09.good')\n",
            "L: Lemma('dear.s.02.dear')\n",
            "L: Lemma('dear.s.02.good')\n",
            "L: Lemma('dear.s.02.near')\n",
            "L: Lemma('dependable.s.04.dependable')\n",
            "L: Lemma('dependable.s.04.good')\n",
            "L: Lemma('dependable.s.04.safe')\n",
            "L: Lemma('dependable.s.04.secure')\n",
            "L: Lemma('good.s.12.good')\n",
            "L: Lemma('good.s.12.right')\n",
            "L: Lemma('good.s.12.ripe')\n",
            "L: Lemma('good.s.13.good')\n",
            "L: Lemma('good.s.13.well')\n",
            "L: Lemma('effective.s.04.effective')\n",
            "L: Lemma('effective.s.04.good')\n",
            "L: Lemma('effective.s.04.in_effect')\n",
            "L: Lemma('effective.s.04.in_force')\n",
            "L: Lemma('good.s.15.good')\n",
            "L: Lemma('good.s.16.good')\n",
            "L: Lemma('good.s.16.serious')\n",
            "L: Lemma('good.s.17.good')\n",
            "L: Lemma('good.s.17.sound')\n",
            "L: Lemma('good.s.18.good')\n",
            "L: Lemma('good.s.18.salutary')\n",
            "L: Lemma('good.s.19.good')\n",
            "L: Lemma('good.s.19.honest')\n",
            "L: Lemma('good.s.20.good')\n",
            "L: Lemma('good.s.20.undecomposed')\n",
            "L: Lemma('good.s.20.unspoiled')\n",
            "L: Lemma('good.s.20.unspoilt')\n",
            "L: Lemma('good.s.21.good')\n",
            "L: Lemma('well.r.01.well')\n",
            "L: Lemma('well.r.01.good')\n",
            "L: Lemma('thoroughly.r.02.thoroughly')\n",
            "L: Lemma('thoroughly.r.02.soundly')\n",
            "L: Lemma('thoroughly.r.02.good')\n",
            "{'soundly', 'beneficial', 'respectable', 'right', 'trade_good', 'upright', 'salutary', 'estimable', 'goodness', 'good', 'serious', 'honest', 'undecomposed', 'practiced', 'unspoiled', 'effective', 'in_force', 'honorable', 'expert', 'skillful', 'in_effect', 'proficient', 'skilful', 'thoroughly', 'sound', 'dear', 'near', 'ripe', 'unspoilt', 'just', 'adept', 'full', 'safe', 'commodity', 'dependable', 'secure', 'well'}\n",
            "{'bad', 'evilness', 'ill', 'evil', 'badness'}\n"
          ],
          "name": "stdout"
        }
      ]
    },
    {
      "metadata": {
        "id": "f3JBj0mHFfX9",
        "colab_type": "code",
        "colab": {
          "base_uri": "https://localhost:8080/",
          "height": 68
        },
        "outputId": "34f55a8b-a25e-4deb-c21a-d9142385cd23"
      },
      "cell_type": "code",
      "source": [
        "# Next, we can also easily use WordNet to compare the similarity of two words and their tenses, \n",
        "# by incorporating the Wu and Palmer method for semantic related-ness.\n",
        "\n",
        "\n",
        "w1 = wordnet.synset('ship.n.01')\n",
        "w2 = wordnet.synset('boat.n.01')\n",
        "print(w1.wup_similarity(w2))\n",
        "\n",
        "\n",
        "w1 = wordnet.synset('ship.n.01')\n",
        "w2 = wordnet.synset('car.n.01')\n",
        "print(w1.wup_similarity(w2))\n",
        "\n",
        "\n",
        "w1 = wordnet.synset('ship.n.01')\n",
        "w2 = wordnet.synset('cat.n.01')\n",
        "print(w1.wup_similarity(w2))"
      ],
      "execution_count": 10,
      "outputs": [
        {
          "output_type": "stream",
          "text": [
            "0.9090909090909091\n",
            "0.6956521739130435\n",
            "0.32\n"
          ],
          "name": "stdout"
        }
      ]
    }
  ]
}