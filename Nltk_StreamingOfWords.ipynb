{
  "nbformat": 4,
  "nbformat_minor": 0,
  "metadata": {
    "colab": {
      "name": "Nltk-StreamingOfWords.ipynb",
      "version": "0.3.2",
      "provenance": [],
      "collapsed_sections": [],
      "include_colab_link": true
    },
    "kernelspec": {
      "name": "python3",
      "display_name": "Python 3"
    }
  },
  "cells": [
    {
      "cell_type": "markdown",
      "metadata": {
        "id": "view-in-github",
        "colab_type": "text"
      },
      "source": [
        "[View in Colaboratory](https://colab.research.google.com/github/yashgupta777/NLP/blob/master/Nltk_StreamingOfWords.ipynb)"
      ]
    },
    {
      "metadata": {
        "id": "oOEkHr0JbmEV",
        "colab_type": "code",
        "colab": {}
      },
      "cell_type": "code",
      "source": [
        "# The idea of stemming is a sort of normalizing method. Many variations of words carry the same meaning, other than when tense is involved.\n",
        "# One of the most popular stemming algorithms is the Porter stemmer, which has been around since 1979.\n",
        "from nltk.stem import PorterStemmer\n",
        "from nltk.tokenize import sent_tokenize, word_tokenize\n",
        "\n",
        "ps = PorterStemmer()"
      ],
      "execution_count": 0,
      "outputs": []
    },
    {
      "metadata": {
        "id": "05Hpn3i699oZ",
        "colab_type": "code",
        "colab": {}
      },
      "cell_type": "code",
      "source": [
        "example_words = [\"read\",\"reading\",\"book reading\",\"readily\",\"ready\", \"reads\",\"reading novel\",\"readiness\",\"real\"]"
      ],
      "execution_count": 0,
      "outputs": []
    },
    {
      "metadata": {
        "id": "WzkC3BIx-kIR",
        "colab_type": "code",
        "colab": {
          "base_uri": "https://localhost:8080/",
          "height": 170
        },
        "outputId": "11be1a28-e157-4ab5-873f-13ef0b4d429f"
      },
      "cell_type": "code",
      "source": [
        "for w in example_words:\n",
        "    stemmed_words = ps.stem(w)\n",
        "    print(stemmed_words)\n"
      ],
      "execution_count": 11,
      "outputs": [
        {
          "output_type": "stream",
          "text": [
            "read\n",
            "read\n",
            "book read\n",
            "readili\n",
            "readi\n",
            "read\n",
            "reading novel\n",
            "readi\n",
            "real\n"
          ],
          "name": "stdout"
        }
      ]
    },
    {
      "metadata": {
        "id": "EGXChOlc_8Ib",
        "colab_type": "code",
        "colab": {
          "base_uri": "https://localhost:8080/",
          "height": 479
        },
        "outputId": "24756706-ebc2-48cc-ea18-2649f139dcff"
      },
      "cell_type": "code",
      "source": [
        "new_text = \"It is important to by very pythonly while you are pythoning with python. All pythoners have pythoned poorly at least once.\"\n",
        "new_text_para = \"It is important to by very pythonly while you are pythoning with python. All pythoners have pythoned poorly at least once. One very irregular verb is to read, which is the same when written down in the past tense, but pronounced differently.In the present tense, read is pronounced like the word reed or seed, but in the past tense it is pronounced the same as red.\"\n",
        "words = word_tokenize(new_text)\n",
        "sentence = sent_tokenize(new_text_para)\n",
        "\n",
        "for w in words:\n",
        "    print(ps.stem(w))\n",
        "for s in sentence:\n",
        "    print(ps.stem(s))"
      ],
      "execution_count": 17,
      "outputs": [
        {
          "output_type": "stream",
          "text": [
            "It\n",
            "is\n",
            "import\n",
            "to\n",
            "by\n",
            "veri\n",
            "pythonli\n",
            "while\n",
            "you\n",
            "are\n",
            "python\n",
            "with\n",
            "python\n",
            ".\n",
            "all\n",
            "python\n",
            "have\n",
            "python\n",
            "poorli\n",
            "at\n",
            "least\n",
            "onc\n",
            ".\n",
            "it is important to by very pythonly while you are pythoning with python.\n",
            "all pythoners have pythoned poorly at least once.\n",
            "one very irregular verb is to read, which is the same when written down in the past tense, but pronounced differently.in the present tense, read is pronounced like the word reed or seed, but in the past tense it is pronounced the same as red.\n"
          ],
          "name": "stdout"
        }
      ]
    }
  ]
}